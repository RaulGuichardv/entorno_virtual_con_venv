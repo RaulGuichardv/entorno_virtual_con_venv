{
 "cells": [
  {
   "cell_type": "markdown",
   "metadata": {},
   "source": [
    "# Para crear un entorno virtual con venv se require la siguiente linea en la terminal\n",
    "todas las lineas se tiene que escribir en la terminal\n",
    "\n",
    "* python -m venv \"nombre de tu entorno viertual\"\n",
    "\n",
    "### Ejemplo: \n",
    "\n",
    "* python -m venv env\n",
    "en este caso el nombre de mi entorno virtual es env \n",
    "\n",
    "\n",
    "## Activar el entorno virtual\n",
    "ya que creaste la carpeta de tu entorno virtual es necesario activarla para empezar a usarla: \n",
    "\n",
    "* .\\env\\Scripts\\activate\n",
    "\n",
    "o tambien:\n",
    "\n",
    "* env/Scripts/activate\n",
    "\n",
    "esto activara el entorno virtual\n",
    "\n",
    "## Desactivar el entorno virtual\n",
    "para poder salir del entorno virtual es necesario esta linea en la terminal:\n",
    "\n",
    "* deactivate\n",
    "\n"
   ]
  }
 ],
 "metadata": {
  "language_info": {
   "name": "python"
  }
 },
 "nbformat": 4,
 "nbformat_minor": 2
}
